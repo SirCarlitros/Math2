{
  "nbformat": 4,
  "nbformat_minor": 0,
  "metadata": {
    "colab": {
      "name": "IntroducciónColab.ipynb",
      "provenance": [],
      "toc_visible": true,
      "mount_file_id": "1wjJBOu4UmBH5zSskHMcLeDsD5PLU9mPd",
      "authorship_tag": "ABX9TyPzezf8wmjOMlN57cmZnxi3",
      "include_colab_link": true
    },
    "kernelspec": {
      "name": "python3",
      "display_name": "Python 3"
    }
  },
  "cells": [
    {
      "cell_type": "markdown",
      "metadata": {
        "id": "view-in-github",
        "colab_type": "text"
      },
      "source": [
        "<a href=\"https://colab.research.google.com/github/SirCarlitros/Math2/blob/main/Introducci%C3%B3nColab.ipynb\" target=\"_parent\"><img src=\"https://colab.research.google.com/assets/colab-badge.svg\" alt=\"Open In Colab\"/></a>"
      ]
    },
    {
      "cell_type": "code",
      "metadata": {
        "colab": {
          "base_uri": "https://localhost:8080/"
        },
        "id": "wO7uOSPZy8gp",
        "outputId": "9a6f0daa-2f9e-4c9b-ac8a-b2ce6de2252f"
      },
      "source": [
        "2+2"
      ],
      "execution_count": null,
      "outputs": [
        {
          "output_type": "execute_result",
          "data": {
            "text/plain": [
              "4"
            ]
          },
          "metadata": {
            "tags": []
          },
          "execution_count": 1
        }
      ]
    }
  ]
}