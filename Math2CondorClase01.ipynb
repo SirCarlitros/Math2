{
  "nbformat": 4,
  "nbformat_minor": 0,
  "metadata": {
    "colab": {
      "name": "Math2CondorClase01.ipynb",
      "provenance": [],
      "toc_visible": true,
      "authorship_tag": "ABX9TyOy8IdccdEdhxWA/enIRRap",
      "include_colab_link": true
    },
    "kernelspec": {
      "name": "python3",
      "display_name": "Python 3"
    }
  },
  "cells": [
    {
      "cell_type": "markdown",
      "metadata": {
        "id": "view-in-github",
        "colab_type": "text"
      },
      "source": [
        "<a href=\"https://colab.research.google.com/github/SirCarlitros/Math2/blob/main/Math2CondorClase01.ipynb\" target=\"_parent\"><img src=\"https://colab.research.google.com/assets/colab-badge.svg\" alt=\"Open In Colab\"/></a>"
      ]
    },
    {
      "cell_type": "markdown",
      "metadata": {
        "id": "rgj9Ug61lRyd"
      },
      "source": [
        "># **Curso de Math 2 Condor**\r\n",
        "\r\n",
        "$y = x^2 $\r\n",
        "\r\n",
        "Este es un notebook para las clases de Math2 con Matrices "
      ]
    },
    {
      "cell_type": "code",
      "metadata": {
        "id": "1l3UsO4cllSZ"
      },
      "source": [
        "a = 4+5\r\n"
      ],
      "execution_count": 1,
      "outputs": []
    },
    {
      "cell_type": "code",
      "metadata": {
        "id": "Ho0Z1-simTB0"
      },
      "source": [
        "b= 4+2"
      ],
      "execution_count": 2,
      "outputs": []
    },
    {
      "cell_type": "code",
      "metadata": {
        "id": "PSOhbTTdmS-V"
      },
      "source": [
        "c = 2+b"
      ],
      "execution_count": 3,
      "outputs": []
    },
    {
      "cell_type": "code",
      "metadata": {
        "id": "02sdGWZ5mStX"
      },
      "source": [
        "d = c+10"
      ],
      "execution_count": 4,
      "outputs": []
    },
    {
      "cell_type": "markdown",
      "metadata": {
        "id": "JsOKBqrJnA6x"
      },
      "source": [
        ">> # Ciclo For"
      ]
    },
    {
      "cell_type": "code",
      "metadata": {
        "colab": {
          "base_uri": "https://localhost:8080/"
        },
        "id": "5lp-AZALnF3_",
        "outputId": "a65c10d5-62dd-4a2b-982c-478d43e69808"
      },
      "source": [
        "a=0\r\n",
        "for i in range(5):\r\n",
        "  a= a+i\r\n",
        "print(a)"
      ],
      "execution_count": 5,
      "outputs": [
        {
          "output_type": "stream",
          "text": [
            "10\n"
          ],
          "name": "stdout"
        }
      ]
    },
    {
      "cell_type": "code",
      "metadata": {
        "id": "hbh8cvfWn98D"
      },
      "source": [
        "def suma(b):\r\n",
        "  a=0\r\n",
        "  for i in range(b+1):\r\n",
        "    a= a+i\r\n",
        "  return print(a)\r\n"
      ],
      "execution_count": 7,
      "outputs": []
    },
    {
      "cell_type": "code",
      "metadata": {
        "colab": {
          "base_uri": "https://localhost:8080/"
        },
        "id": "PXQrwhfjoTiM",
        "outputId": "1b2a7d46-0c03-4b64-d2a3-f4300b18d525"
      },
      "source": [
        "suma(4)"
      ],
      "execution_count": 15,
      "outputs": [
        {
          "output_type": "stream",
          "text": [
            "10\n"
          ],
          "name": "stdout"
        }
      ]
    },
    {
      "cell_type": "markdown",
      "metadata": {
        "id": "qFl-9FzTnUFw"
      },
      "source": [
        "# If"
      ]
    },
    {
      "cell_type": "code",
      "metadata": {
        "id": "gJXthJo2plIz"
      },
      "source": [
        "def suma_filtro(b):\r\n",
        "  if(type(b) == int):\r\n",
        "    a=0\r\n",
        "    for i in range(b+1):\r\n",
        "      a= a+i\r\n",
        "    return print(a)\r\n",
        "  else:\r\n",
        "    return print(\"Introduce una variable tipo int\")"
      ],
      "execution_count": 16,
      "outputs": []
    },
    {
      "cell_type": "markdown",
      "metadata": {
        "id": "8mxUn_F7qWS1"
      },
      "source": [
        "Operadores Lógicos\r\n",
        "\r\n",
        "== \r\n",
        "&& and\r\n",
        "|| or\r\n",
        "!= \r\n"
      ]
    },
    {
      "cell_type": "code",
      "metadata": {
        "colab": {
          "base_uri": "https://localhost:8080/"
        },
        "id": "f0SY8OzEp5cW",
        "outputId": "e9aae895-2079-4eb0-bd2c-2917b44bff73"
      },
      "source": [
        "suma_filtro(4)"
      ],
      "execution_count": 18,
      "outputs": [
        {
          "output_type": "stream",
          "text": [
            "10\n"
          ],
          "name": "stdout"
        }
      ]
    },
    {
      "cell_type": "markdown",
      "metadata": {
        "id": "hA4YMlKEsbIZ"
      },
      "source": [
        "> # **Matrices** "
      ]
    },
    {
      "cell_type": "code",
      "metadata": {
        "id": "rOOENj47sk7s"
      },
      "source": [
        "import numpy as np"
      ],
      "execution_count": 19,
      "outputs": []
    },
    {
      "cell_type": "code",
      "metadata": {
        "colab": {
          "base_uri": "https://localhost:8080/"
        },
        "id": "tzsMsY2hstmi",
        "outputId": "2ca28457-cd63-4b3b-bbbb-831da6537b8d"
      },
      "source": [
        "matriz01 = np.array([[1,2,3,4],[5,6,7,8]])\r\n",
        "matriz02 = np.array([[1,0,0,0],[0,0,0,0]])\r\n",
        "matriz03 = matriz01 + matriz02\r\n",
        "matriz03"
      ],
      "execution_count": 31,
      "outputs": [
        {
          "output_type": "execute_result",
          "data": {
            "text/plain": [
              "array([[2, 2, 3, 4],\n",
              "       [5, 6, 7, 8]])"
            ]
          },
          "metadata": {
            "tags": []
          },
          "execution_count": 31
        }
      ]
    }
  ]
}