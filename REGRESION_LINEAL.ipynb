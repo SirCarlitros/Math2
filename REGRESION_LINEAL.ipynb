{
  "nbformat": 4,
  "nbformat_minor": 0,
  "metadata": {
    "kernelspec": {
      "display_name": "Python 3",
      "language": "python",
      "name": "python3"
    },
    "language_info": {
      "codemirror_mode": {
        "name": "ipython",
        "version": 3
      },
      "file_extension": ".py",
      "mimetype": "text/x-python",
      "name": "python",
      "nbconvert_exporter": "python",
      "pygments_lexer": "ipython3",
      "version": "3.7.7"
    },
    "colab": {
      "name": "Copia de REGRESION_LINEAL.ipynb",
      "provenance": [],
      "toc_visible": true,
      "include_colab_link": true
    }
  },
  "cells": [
    {
      "cell_type": "markdown",
      "metadata": {
        "id": "view-in-github",
        "colab_type": "text"
      },
      "source": [
        "<a href=\"https://colab.research.google.com/github/SirCarlitros/Math2/blob/main/REGRESION_LINEAL.ipynb\" target=\"_parent\"><img src=\"https://colab.research.google.com/assets/colab-badge.svg\" alt=\"Open In Colab\"/></a>"
      ]
    },
    {
      "cell_type": "markdown",
      "metadata": {
        "id": "CCk4Dk7TucdV"
      },
      "source": [
        "## Regresión Lineal.\n",
        "Autor: Jośe Falcón\n"
      ]
    },
    {
      "cell_type": "code",
      "metadata": {
        "colab": {
          "base_uri": "https://localhost:8080/"
        },
        "id": "WDXgdyZSkah_",
        "outputId": "90820e6c-5b16-48f9-e8f1-e6daf1ed4bb3"
      },
      "source": [
        "from google.colab import drive\n",
        "drive.mount('/content/drive')"
      ],
      "execution_count": 4,
      "outputs": [
        {
          "output_type": "stream",
          "text": [
            "Drive already mounted at /content/drive; to attempt to forcibly remount, call drive.mount(\"/content/drive\", force_remount=True).\n"
          ],
          "name": "stdout"
        }
      ]
    },
    {
      "cell_type": "markdown",
      "metadata": {
        "id": "pm6i_sjducdX"
      },
      "source": [
        "La regresión lineal es un modelo matemático que consiste en encontrar la **ecuación lineal** que mejor se ajuste o aproxime a un conjunto de datos dado. Dicho de otra manera, se busca aproximar la relación de dependencia entre una variable dependiente $Y$ y variables independientes $x_i$ de la siguiente forma:\n",
        "\n",
        "$$Y=\\sum_{i=0}^d \\hat{\\beta}_{i}x_i$$\n",
        "\n",
        "en donde a los $\\hat{\\beta}_i$ se les conoce como **estimadores o pesos**. Vamos a considerar a $x_0=1$\n",
        "\n",
        "Cuando nos referimos a la que mejor **aproxime** es en el sentido de aquella ecuación lineal que minimice una función llamada **función de error o de costo**, por lo que la regresión lineal se convierte en un problema de minimización\n"
      ]
    },
    {
      "cell_type": "markdown",
      "metadata": {
        "id": "rDtHn7yFucdX"
      },
      "source": [
        "<div style=\"text-align: center\"><img src=\"https://economipedia.com/wp-content/uploads/Regresi%C3%B3n-lineal.png\"></div>"
      ]
    },
    {
      "cell_type": "markdown",
      "metadata": {
        "id": "PYlYWZ45ucdY"
      },
      "source": [
        "Durante este notebook vamos a deducir la ecuación\n",
        "$$\\hat{\\beta} = (X^TX)^{-1}X^TY$$\n",
        "en donde $X$ es el conjunto de datos, $Y$ la variable dependiente, y $\\hat{\\beta}$ es el vector de estimadores o de pesos"
      ]
    },
    {
      "cell_type": "markdown",
      "metadata": {
        "id": "KC9OwE1ZucdZ"
      },
      "source": [
        "Definición 1: Sea $w \\in \\mathbb{R}^n$ y $x \\in \\mathbb{R}^m$, definimos la derivada de x con respecto a w como:\n",
        "$$\\frac{dx}{dw} = \\begin{pmatrix}\n",
        "\\frac{\\partial x_1}{\\partial w_1} & \\dots & \\frac{\\partial x_1}{\\partial w_n}\\\\\n",
        "\\vdots & \\ddots & \\vdots\\\\\n",
        "\\frac{\\partial x_m}{\\partial w_1} & \\dots & \\frac{\\partial x_m}{\\partial w_n}\n",
        "\\end{pmatrix}\n",
        "$$\n",
        "es decir $\\left(\\frac{dx}{dw}\\right)_{ij}= \\frac{\\partial x_i}{\\partial w_j}$"
      ]
    },
    {
      "cell_type": "markdown",
      "metadata": {
        "id": "Ntu7Zucrucda"
      },
      "source": [
        "Proposición 1: Sea $A \\in M_{nxm}(\\mathbb{R})$ y $w \\in \\mathbb{R}^m$ (o equivalentemente $w \\in M_{mx1}(\\mathbb{R})$). Si las entradas de $A$ no dependen de las entradas de $w$ entonces:\n",
        "$$\\frac{d(Aw)}{dw} = A$$\n",
        "Demostración:\n",
        "$$(Aw)_i = \\sum_{k = 1}^n A_{ik}w_k$$\n",
        "$$\\implies \\left(\\frac{d(Aw)}{dw}\\right)_{ij} = \\frac{\\partial (Aw)_i}{\\partial w_j} = \\frac{\\partial \\left(\\sum_{k = 1}^n A_{ik}w_k\\right)}{\\partial w_j} = \\sum_{k = 1}^n \\frac{\\partial(A_{ik}w_k)}{\\partial w_j} = \\sum_{k = 1}^n A_{ik}\\frac{\\partial w_k}{\\partial w_j} = \\sum_{k = 1}^n A_{ik}\\delta_{kj} = A_{ij}$$\n",
        "\n",
        "Por lo tanto $$ \\left(\\frac{d(Aw)}{dw}\\right)_{ij} = A_{ij}$$\n",
        "y se concluye que:\n",
        "$$\\frac{d(Aw)}{dw} = A$$"
      ]
    },
    {
      "cell_type": "markdown",
      "metadata": {
        "id": "YNc-wfa-ucda"
      },
      "source": [
        "Para la regresión lineal vamos a utilizar la función RSS, la cual es:\n",
        "\n",
        "$$RSS = \\sum_{i = 1}^n (y_i - \\hat{y}_i)^2$$\n",
        "\n",
        "Esta función se conoce normalmente como la \"función de costo\", \"loss function\" o \"función de error\". Nos da la suma del error cuadrático para cada una de las predicciones.\n",
        "Esta sería una función que depende de los estimadores $\\hat{\\beta_i}$ o el vector de estimadores $\\hat{\\beta}$.\n",
        "\n",
        "Sea $X \\in M_{nxp}\\left(\\mathbb{R}\\right)$ el conjunto de datos y $\\hat{\\beta} \\in M_{px1}\\left(\\mathbb{R}\\right)$ el vector de estimadores, entonces\n",
        "$$\\hat{y} = X\\hat{\\beta}$$\n",
        "Podemos reescribir a RSS en forma matricial como:\n",
        "$$RSS = \\sum_{i = 1}^n (y_i - \\hat{y}_i)^2 = (y-\\hat{y})^T(y-\\hat{y})$$\n"
      ]
    },
    {
      "cell_type": "markdown",
      "metadata": {
        "id": "jy8u4KZIucdb"
      },
      "source": [
        "![](https://iartificial.net/wp-content/uploads/2018/12/error-regresion-lineal2.png)"
      ]
    },
    {
      "cell_type": "markdown",
      "metadata": {
        "id": "6XZXp_tMucdc"
      },
      "source": [
        "Lo que queremos hacer es obtener los estimadores o pesos que minimicen dicha función de error."
      ]
    },
    {
      "cell_type": "markdown",
      "metadata": {
        "id": "b14P5PiQucdc"
      },
      "source": [
        "$$(AB)^T=B^TA^T$$"
      ]
    },
    {
      "cell_type": "markdown",
      "metadata": {
        "id": "qZnxgFOAucdd"
      },
      "source": [
        "Proposición 2: El vector de estimadores que minimiza a RSS es:\n",
        "$$\\hat{\\beta} = \\left(X^TX\\right)^{-1}X^Ty$$\n",
        "\n",
        "Demostración:\n",
        "$$RSS = (y-\\hat{y})^T(y-\\hat{y}) = y^Ty-y^T\\hat{y}-\\hat{y}^Ty+\\hat{y}^T\\hat{y} = y^Ty-y^TX\\hat{\\beta}-\\hat{\\beta}^TX^Ty+\\hat{\\beta}^TX^TX\\hat{\\beta}$$\n",
        "\n",
        "Derivamos la expresión anterior con respecto a $\\hat{\\beta}$ e igualamos la derivada a 0 para encontrar el vector de estimadores que minimiza el error RSS:\n",
        "$$\\frac{dRSS}{d\\hat{\\beta}} \\stackrel{Proposición 1}{=} -y^TX + \\hat{\\beta}^TX^TX=0$$\n",
        "$$\\implies y^TX=\\hat{\\beta}^TX^TX$$\n",
        "$$\\implies X^TX\\hat{\\beta}=X^Ty$$\n",
        "$$\\implies \\hat{\\beta} = (X^TX)^{-1}X^Ty$$"
      ]
    },
    {
      "cell_type": "markdown",
      "metadata": {
        "id": "ZCquEkvnucdd"
      },
      "source": [
        "# Problema 1\n",
        "\n",
        "Tenemos un conjunto de datos que nos dice el salario dado el número de años de experiencia en una empresa."
      ]
    },
    {
      "cell_type": "markdown",
      "metadata": {
        "id": "F0ckOs_Ducde"
      },
      "source": [
        "## a) \n",
        "Realiza una gráfica de y= SALARIO versus x= AÑOS DE EXPERIENCIA"
      ]
    },
    {
      "cell_type": "code",
      "metadata": {
        "id": "PbeQ_bFIucdf"
      },
      "source": [
        "import pandas as pd\n",
        "import numpy as np\n",
        "import matplotlib.pyplot as plt"
      ],
      "execution_count": 5,
      "outputs": []
    },
    {
      "cell_type": "code",
      "metadata": {
        "id": "FDGepOhEucdj"
      },
      "source": [
        "dataset = pd.read_csv(\"/content/drive/MyDrive/Salary_Data.csv\")"
      ],
      "execution_count": 6,
      "outputs": []
    },
    {
      "cell_type": "code",
      "metadata": {
        "id": "kaQ_EzKNucdm",
        "colab": {
          "base_uri": "https://localhost:8080/",
          "height": 204
        },
        "outputId": "75dda99b-11a6-4335-da8e-0d0a25af38c2"
      },
      "source": [
        "dataset.head()"
      ],
      "execution_count": 7,
      "outputs": [
        {
          "output_type": "execute_result",
          "data": {
            "text/html": [
              "<div>\n",
              "<style scoped>\n",
              "    .dataframe tbody tr th:only-of-type {\n",
              "        vertical-align: middle;\n",
              "    }\n",
              "\n",
              "    .dataframe tbody tr th {\n",
              "        vertical-align: top;\n",
              "    }\n",
              "\n",
              "    .dataframe thead th {\n",
              "        text-align: right;\n",
              "    }\n",
              "</style>\n",
              "<table border=\"1\" class=\"dataframe\">\n",
              "  <thead>\n",
              "    <tr style=\"text-align: right;\">\n",
              "      <th></th>\n",
              "      <th>YearsExperience</th>\n",
              "      <th>Salary</th>\n",
              "    </tr>\n",
              "  </thead>\n",
              "  <tbody>\n",
              "    <tr>\n",
              "      <th>0</th>\n",
              "      <td>1.1</td>\n",
              "      <td>39343.0</td>\n",
              "    </tr>\n",
              "    <tr>\n",
              "      <th>1</th>\n",
              "      <td>1.3</td>\n",
              "      <td>46205.0</td>\n",
              "    </tr>\n",
              "    <tr>\n",
              "      <th>2</th>\n",
              "      <td>1.5</td>\n",
              "      <td>37731.0</td>\n",
              "    </tr>\n",
              "    <tr>\n",
              "      <th>3</th>\n",
              "      <td>2.0</td>\n",
              "      <td>43525.0</td>\n",
              "    </tr>\n",
              "    <tr>\n",
              "      <th>4</th>\n",
              "      <td>2.2</td>\n",
              "      <td>39891.0</td>\n",
              "    </tr>\n",
              "  </tbody>\n",
              "</table>\n",
              "</div>"
            ],
            "text/plain": [
              "   YearsExperience   Salary\n",
              "0              1.1  39343.0\n",
              "1              1.3  46205.0\n",
              "2              1.5  37731.0\n",
              "3              2.0  43525.0\n",
              "4              2.2  39891.0"
            ]
          },
          "metadata": {
            "tags": []
          },
          "execution_count": 7
        }
      ]
    },
    {
      "cell_type": "code",
      "metadata": {
        "id": "KgluGKK2ucdp"
      },
      "source": [
        "x = dataset[\"YearsExperience\"].values\n",
        "\n",
        "y = dataset[\"Salary\"].values"
      ],
      "execution_count": 9,
      "outputs": []
    },
    {
      "cell_type": "code",
      "metadata": {
        "id": "A31E_CJ9ucds",
        "colab": {
          "base_uri": "https://localhost:8080/"
        },
        "outputId": "2e5f6557-6d0c-42e4-bc0c-eed44a1e656e"
      },
      "source": [
        "y"
      ],
      "execution_count": 10,
      "outputs": [
        {
          "output_type": "execute_result",
          "data": {
            "text/plain": [
              "array([ 39343.,  46205.,  37731.,  43525.,  39891.,  56642.,  60150.,\n",
              "        54445.,  64445.,  57189.,  63218.,  55794.,  56957.,  57081.,\n",
              "        61111.,  67938.,  66029.,  83088.,  81363.,  93940.,  91738.,\n",
              "        98273., 101302., 113812., 109431., 105582., 116969., 112635.,\n",
              "       122391., 121872.])"
            ]
          },
          "metadata": {
            "tags": []
          },
          "execution_count": 10
        }
      ]
    },
    {
      "cell_type": "code",
      "metadata": {
        "id": "LCEQETnoucdv",
        "colab": {
          "base_uri": "https://localhost:8080/",
          "height": 295
        },
        "outputId": "0ccb8632-afd8-4eec-a64f-5d8c1dbaf7c2"
      },
      "source": [
        "plt.scatter(x,y,color=\"red\", label = \"datos reales\")\n",
        "plt.title(\"Gráfica de dispersión de salario vs años de experiencia\")\n",
        "plt.xlabel(\"Años de experiencia\")\n",
        "plt.ylabel(\"Salario\")\n",
        "plt.legend()\n",
        "plt.show()"
      ],
      "execution_count": 11,
      "outputs": [
        {
          "output_type": "display_data",
          "data": {
            "image/png": "[encoded data removed]",
            "text/plain": [
              "<Figure size 432x288 with 1 Axes>"
            ]
          },
          "metadata": {
            "tags": [],
            "needs_background": "light"
          }
        }
      ]
    },
    {
      "cell_type": "markdown",
      "metadata": {
        "id": "6mi3R7iZucdy"
      },
      "source": [
        "## b)\n",
        "Encuentra los estimadores por mínimos cuadrados $\\widehat\\beta_0$ y $\\widehat\\beta_1$."
      ]
    },
    {
      "cell_type": "code",
      "metadata": {
        "id": "0vrYW6hxucdz"
      },
      "source": [
        "x_ones = np.ones((x.shape[0],1))\n",
        "x = x.reshape(-1,1)"
      ],
      "execution_count": 17,
      "outputs": []
    },
    {
      "cell_type": "code",
      "metadata": {
        "colab": {
          "base_uri": "https://localhost:8080/"
        },
        "id": "99AqX2ihlXpM",
        "outputId": "1fd156b0-d551-47a5-fd55-cb7b413e729e"
      },
      "source": [
        "x.shape"
      ],
      "execution_count": 18,
      "outputs": [
        {
          "output_type": "execute_result",
          "data": {
            "text/plain": [
              "(30, 1)"
            ]
          },
          "metadata": {
            "tags": []
          },
          "execution_count": 18
        }
      ]
    },
    {
      "cell_type": "code",
      "metadata": {
        "id": "lISbW8sxucd2"
      },
      "source": [
        "X = np.concatenate((x_ones,x), axis = 1) "
      ],
      "execution_count": 19,
      "outputs": []
    },
    {
      "cell_type": "code",
      "metadata": {
        "id": "zNIDWMxrucd6",
        "colab": {
          "base_uri": "https://localhost:8080/"
        },
        "outputId": "de760b86-c9f9-4932-81d4-fcde51c9b925"
      },
      "source": [
        "X.shape"
      ],
      "execution_count": 20,
      "outputs": [
        {
          "output_type": "execute_result",
          "data": {
            "text/plain": [
              "(30, 2)"
            ]
          },
          "metadata": {
            "tags": []
          },
          "execution_count": 20
        }
      ]
    },
    {
      "cell_type": "code",
      "metadata": {
        "id": "sUaQ21myuceH"
      },
      "source": [
        "y = y.reshape(-1,1)"
      ],
      "execution_count": 21,
      "outputs": []
    },
    {
      "cell_type": "code",
      "metadata": {
        "colab": {
          "base_uri": "https://localhost:8080/"
        },
        "id": "FShBgwbclt94",
        "outputId": "4095c26b-7fe4-47bb-b267-7543ed9a3412"
      },
      "source": [
        "y.shape"
      ],
      "execution_count": 22,
      "outputs": [
        {
          "output_type": "execute_result",
          "data": {
            "text/plain": [
              "(30, 1)"
            ]
          },
          "metadata": {
            "tags": []
          },
          "execution_count": 22
        }
      ]
    },
    {
      "cell_type": "code",
      "metadata": {
        "id": "0d4Otu1PuceK"
      },
      "source": [
        "def regresion_lineal(X,y):\n",
        "    aux1 = np.matmul(X.T,X)\n",
        "    aux2 = np.linalg.inv(aux1)\n",
        "    aux3 = np.matmul(aux2,X.T)\n",
        "    aux4 = np.matmul(aux3,y)\n",
        "    return aux4"
      ],
      "execution_count": 23,
      "outputs": []
    },
    {
      "cell_type": "code",
      "metadata": {
        "id": "dBXTkIZnuceO"
      },
      "source": [
        "estimadores_1 = regresion_lineal(X,y)"
      ],
      "execution_count": 24,
      "outputs": []
    },
    {
      "cell_type": "code",
      "metadata": {
        "id": "q3pEMd7NuceQ",
        "colab": {
          "base_uri": "https://localhost:8080/"
        },
        "outputId": "93b4e281-b2b3-489f-eaca-9009fb754a94"
      },
      "source": [
        "estimadores_1"
      ],
      "execution_count": 25,
      "outputs": [
        {
          "output_type": "execute_result",
          "data": {
            "text/plain": [
              "array([[25792.20019867],\n",
              "       [ 9449.96232146]])"
            ]
          },
          "metadata": {
            "tags": []
          },
          "execution_count": 25
        }
      ]
    },
    {
      "cell_type": "markdown",
      "metadata": {
        "id": "ndGuhY2XuceU"
      },
      "source": [
        "## c)\n",
        "Haz la gráfica de la curva de ajuste $\\widehat y=\\widehat\\beta_0+\\widehat\\beta_1x$\n"
      ]
    },
    {
      "cell_type": "code",
      "metadata": {
        "id": "RNPvFhTkuceU"
      },
      "source": [
        "predicciones = np.matmul(X,estimadores_1)\n"
      ],
      "execution_count": 26,
      "outputs": []
    },
    {
      "cell_type": "code",
      "metadata": {
        "id": "xjr8MjsbuceX",
        "colab": {
          "base_uri": "https://localhost:8080/",
          "height": 295
        },
        "outputId": "ff66e027-8340-4be6-fe1b-0f4bf2c7d781"
      },
      "source": [
        "plt.plot(x,predicciones,color=\"green\", label = \"datos predichos\")\n",
        "plt.title(\"Gráfica del modelo lineal ajustado de salario vs años de experiencia\")\n",
        "plt.xlabel(\"Años de experiencia\")\n",
        "plt.ylabel(\"Salario\")\n",
        "plt.legend()\n",
        "plt.show()"
      ],
      "execution_count": 27,
      "outputs": [
        {
          "output_type": "display_data",
          "data": {
            "image/png": "[encoded data removed]",
            "text/plain": [
              "<Figure size 432x288 with 1 Axes>"
            ]
          },
          "metadata": {
            "tags": [],
            "needs_background": "light"
          }
        }
      ]
    },
    {
      "cell_type": "code",
      "metadata": {
        "id": "j8jexFjsuceZ",
        "colab": {
          "base_uri": "https://localhost:8080/",
          "height": 295
        },
        "outputId": "aa092027-687c-4182-d258-e45b9b7c5b32"
      },
      "source": [
        "plt.scatter(x,y,color=\"red\", label = \"datos reales\")\n",
        "plt.plot(x,predicciones,color=\"green\", label = \"datos predichos (regresión lineal)\")\n",
        "plt.title(\"Gráfica de salario vs años de experiencia y su regresión lineal\")\n",
        "plt.xlabel(\"Años de experiencia\")\n",
        "plt.ylabel(\"Salario\")\n",
        "plt.legend()\n",
        "plt.show()"
      ],
      "execution_count": 28,
      "outputs": [
        {
          "output_type": "display_data",
          "data": {
            "image/png": "[encoded data removed]",
            "text/plain": [
              "<Figure size 432x288 with 1 Axes>"
            ]
          },
          "metadata": {
            "tags": [],
            "needs_background": "light"
          }
        }
      ]
    },
    {
      "cell_type": "markdown",
      "metadata": {
        "id": "gH1ZaI7-ucec"
      },
      "source": [
        "# Problema 2\n",
        "\n",
        "El banco internacional UBS produce regularmente un informe (UBS, 2009) sobre los precios y las ganancias en las principales ciudades del mundo. Tres de las medidas que incluyen son los precios de los productos básicos, a saber, 1 kg de arroz, una barra de pan de 1 kg y el precio de una hamburguesa Big Mac en McDonalds. Una característica interesante de los precios que informan es que los precios se miden en los minutos de trabajo necesarios para que un trabajador \"típico\" en ese lugar gane suficiente dinero para comprar el producto. El uso de minutos de trabajo corrige al menos en parte las fluctuaciones monetarias, las tasas salariales vigentes y los precios locales. El archivo de datos incluye mediciones de precios de arroz, pan y Big Mac de los informes de 2003 y 2009. El año 2003 fue antes de que la gran recesión golpeara a gran parte del mundo alrededor de 2006, y el año 2009 puede reflejar cambios en los precios debido a la recesión."
      ]
    },
    {
      "cell_type": "markdown",
      "metadata": {
        "id": "1p7HSk42uced"
      },
      "source": [
        "# a) \n",
        "Realiza un gráfico de dispersión de y = rice2009 versus x = rice2003, los precios del\n",
        "arroz en 2009 y en 2003, respectivamente.\n"
      ]
    },
    {
      "cell_type": "code",
      "metadata": {
        "id": "NyQ1jxfkuced"
      },
      "source": [
        "dataset2 = pd.read_csv(\"UBSprices.csv\")"
      ],
      "execution_count": null,
      "outputs": []
    },
    {
      "cell_type": "code",
      "metadata": {
        "id": "z-lGHeSAuceg"
      },
      "source": [
        "dataset2.head()"
      ],
      "execution_count": null,
      "outputs": []
    },
    {
      "cell_type": "code",
      "metadata": {
        "id": "73Xrp2fCucei"
      },
      "source": [
        "x_2 = dataset2[\"rice2003\"].values\n",
        "x_2"
      ],
      "execution_count": null,
      "outputs": []
    },
    {
      "cell_type": "code",
      "metadata": {
        "id": "2OQxvuxJucet"
      },
      "source": [
        "y_2 = dataset2[\"rice2009\"].values\n",
        "y_2"
      ],
      "execution_count": null,
      "outputs": []
    },
    {
      "cell_type": "code",
      "metadata": {
        "id": "Dmpc78W1ucev"
      },
      "source": [
        "plt.scatter(x_2,y_2,color=\"red\", label = \"datos reales arroz2009 vs arroz2003\")\n",
        "plt.title(\"Gráfica de dispersión del precio del arroz2009 vs precio del arroz2003\")\n",
        "plt.xlabel(\"Precio del arroz en 2003\")\n",
        "plt.ylabel(\"Precio del arroz en 2009\")\n",
        "plt.legend()\n",
        "plt.show()"
      ],
      "execution_count": null,
      "outputs": []
    },
    {
      "cell_type": "markdown",
      "metadata": {
        "id": "g90-LNXYucez"
      },
      "source": [
        "# b)\n",
        "Encuentra los estimadores por mínimos cuadrados $\\widehat\\beta_0$ y $\\widehat\\beta_1$. "
      ]
    },
    {
      "cell_type": "code",
      "metadata": {
        "id": "zl7iS0Ttuce0"
      },
      "source": [
        ""
      ],
      "execution_count": null,
      "outputs": []
    },
    {
      "cell_type": "markdown",
      "metadata": {
        "id": "vQeV7wiPuce3"
      },
      "source": [
        "# c)\n",
        "\n",
        "Haz la gráfica de la curva de ajuste $\\widehat y=\\widehat\\beta_0+\\widehat\\beta_1x$\n"
      ]
    },
    {
      "cell_type": "code",
      "metadata": {
        "id": "MDYIrnR2uce4"
      },
      "source": [
        ""
      ],
      "execution_count": null,
      "outputs": []
    },
    {
      "cell_type": "markdown",
      "metadata": {
        "id": "47_miDpquce7"
      },
      "source": [
        "# d)\n",
        "Realiza nuevamente un gráfico de dispersión pero usando escalas logarítmicas, es decir, realiza el gráfico de dispersión de $y=\\log(\\mathtt{rice2009})$ versus $x=\\log(\\mathtt{rice2003})$."
      ]
    },
    {
      "cell_type": "code",
      "metadata": {
        "id": "g69w_Y7Uuce7"
      },
      "source": [
        ""
      ],
      "execution_count": null,
      "outputs": []
    },
    {
      "cell_type": "markdown",
      "metadata": {
        "id": "f7jWP_xhuce-"
      },
      "source": [
        "# e)\n",
        "Repite los incisos (b) y (c) pero con este representación alternativa en escalas logarítmicas."
      ]
    },
    {
      "cell_type": "code",
      "metadata": {
        "id": "CiIDRMyWuce-"
      },
      "source": [
        ""
      ],
      "execution_count": null,
      "outputs": []
    },
    {
      "cell_type": "markdown",
      "metadata": {
        "id": "aqmAvW5OucfB"
      },
      "source": [
        "# f) Regresando a la expresión original.\n",
        "En la parte anterior, se realizó una regresión lineal para las variables $ln(y) = \\beta_{0} + \\beta_1ln(x)$, esto implica que:\n",
        "$$y = e^{\\beta_{0} + \\beta_1ln(x)} = e^{\\beta_{0} + ln\\left(x^{\\beta_1}\\right)} = e^{\\beta_0}e^{ln\\left(x^{\\beta_1}\\right)} = e^{\\beta_0}x^{\\beta_1}$$\n",
        "entonces, la función que se ajustó es:\n",
        "$$y = e^{\\beta_0}x^{\\beta_1}$$\n",
        "\n",
        "A continuación la vamos a graficar, junto con los datos originales, para ver como es el modelo."
      ]
    },
    {
      "cell_type": "code",
      "metadata": {
        "id": "Ag9LyhblucfC"
      },
      "source": [
        ""
      ],
      "execution_count": null,
      "outputs": []
    },
    {
      "cell_type": "markdown",
      "metadata": {
        "id": "8AcR6qpOucfE"
      },
      "source": [
        "## Problema 3.\n",
        "\n",
        "El Estudio de orientación de Berkeley  inscribió a niños nacidos en Berkeley, California, entre enero de 1928 y junio de 1929, y luego los midió periódicamente hasta los 18 años (Tuddenham y Snyder, 1954). Los datos que utilizamos incluyen alturas en centímetros a las edades de 2, 9 y 18 años ($\\mathtt{HT2}$, $\\mathtt{HT9}$ y $\\mathtt{HT18}$), pesos en kilogramos ($\\mathtt{WT2}$, $\\mathtt{WT9}$ y $\\mathtt{WT18}$), circunferencia de la pierna en centímetros ($\\mathtt{LG2}$, $\\mathtt{LG9}$ y $\\mathtt{LG18}$) y fuerza en kilogramo ($\\mathtt{ST2}$, $\\mathtt{ST9}$ y $\\mathtt{ST18}$). También se proporcionan dos medidas adicionales del tipo de cuerpo, $\\mathtt{soma}$, somatotipo, una escala de 1, muy delgada, a 7, obesidad e índice de masa corporal, calculada como $\\mathtt{IMC18}=\\mathtt{WT18} / (\\mathtt{HT18} / 100)^2$, peso en kilogramo dividido por el cuadrado de masa en metros, una medida estándar de la obesidad. "
      ]
    },
    {
      "cell_type": "markdown",
      "metadata": {
        "id": "eRtr3EWwucfF"
      },
      "source": [
        "## a)\n",
        "Haga la matriz de diagramas de dispersión de $\\mathtt{HT2}$, $\\mathtt{HT9}$, $\\mathtt{WT2}$, $\\mathtt{WT9}$, $\\mathtt{ST9}$, y $\\mathtt{BMI18}$."
      ]
    },
    {
      "cell_type": "code",
      "metadata": {
        "id": "kqOU-aYHucfG"
      },
      "source": [
        ""
      ],
      "execution_count": null,
      "outputs": []
    },
    {
      "cell_type": "code",
      "metadata": {
        "id": "XU5_gPu2ucfI",
        "colab": {
          "base_uri": "https://localhost:8080/",
          "height": 181
        },
        "outputId": "f67e6d6b-110f-4674-f49f-b1a6d2aa0928"
      },
      "source": [
        "from pandas.plotting import scatter_matrix\n",
        "scatter_matrix(dataset_4, alpha = 0.5, figsize=(15,15), c = \"red\", grid = True)"
      ],
      "execution_count": null,
      "outputs": [
        {
          "output_type": "error",
          "ename": "NameError",
          "evalue": "ignored",
          "traceback": [
            "\u001b[0;31m---------------------------------------------------------------------------\u001b[0m",
            "\u001b[0;31mNameError\u001b[0m                                 Traceback (most recent call last)",
            "\u001b[0;32m<ipython-input-1-bbbd13045e2f>\u001b[0m in \u001b[0;36m<module>\u001b[0;34m()\u001b[0m\n\u001b[1;32m      1\u001b[0m \u001b[0;32mfrom\u001b[0m \u001b[0mpandas\u001b[0m\u001b[0;34m.\u001b[0m\u001b[0mplotting\u001b[0m \u001b[0;32mimport\u001b[0m \u001b[0mscatter_matrix\u001b[0m\u001b[0;34m\u001b[0m\u001b[0;34m\u001b[0m\u001b[0m\n\u001b[0;32m----> 2\u001b[0;31m \u001b[0mscatter_matrix\u001b[0m\u001b[0;34m(\u001b[0m\u001b[0mdataset_4\u001b[0m\u001b[0;34m,\u001b[0m \u001b[0malpha\u001b[0m \u001b[0;34m=\u001b[0m \u001b[0;36m0.5\u001b[0m\u001b[0;34m,\u001b[0m \u001b[0mfigsize\u001b[0m\u001b[0;34m=\u001b[0m\u001b[0;34m(\u001b[0m\u001b[0;36m15\u001b[0m\u001b[0;34m,\u001b[0m\u001b[0;36m15\u001b[0m\u001b[0;34m)\u001b[0m\u001b[0;34m,\u001b[0m \u001b[0mc\u001b[0m \u001b[0;34m=\u001b[0m \u001b[0;34m\"red\"\u001b[0m\u001b[0;34m,\u001b[0m \u001b[0mgrid\u001b[0m \u001b[0;34m=\u001b[0m \u001b[0;32mTrue\u001b[0m\u001b[0;34m)\u001b[0m\u001b[0;34m\u001b[0m\u001b[0;34m\u001b[0m\u001b[0m\n\u001b[0m",
            "\u001b[0;31mNameError\u001b[0m: name 'dataset_4' is not defined"
          ]
        }
      ]
    },
    {
      "cell_type": "code",
      "metadata": {
        "id": "KzfNCRb_ucfL"
      },
      "source": [
        ""
      ],
      "execution_count": null,
      "outputs": []
    },
    {
      "cell_type": "markdown",
      "metadata": {
        "id": "QUTFgptAucfO"
      },
      "source": [
        "## b)\n",
        "Ajuste el modelo de regresión lineal por mínimos cuadrados para la variable $y=\\mathtt{BMI18}$ versus $x_1=\\mathtt{HT2}$, $x_2=\\mathtt{WT2}$, $x_3=\\mathtt{HT9}$, $x_4=\\mathtt{WT9}$ y $x_5=\\mathtt{ST9}$."
      ]
    },
    {
      "cell_type": "code",
      "metadata": {
        "id": "vQtAgsH6ucfO"
      },
      "source": [
        ""
      ],
      "execution_count": null,
      "outputs": []
    },
    {
      "cell_type": "code",
      "metadata": {
        "id": "NI_w-x24ucfR"
      },
      "source": [
        ""
      ],
      "execution_count": null,
      "outputs": []
    },
    {
      "cell_type": "markdown",
      "metadata": {
        "id": "zdRW7wU3ucfT"
      },
      "source": [
        "## Regresión polinomial.\n",
        "Veamos un ejemplo de como aplicar el algoritmo de regresión lineal para poder hacer una regresión polinomial. En este caso, se transforman las variables a las potencias deseadas del polinomio por lo que cada estimador o peso $\\hat{\\beta}_i$ es el coeficiente que multiplica a una cierta potencia de la variable de nuestro polinomio.\n"
      ]
    },
    {
      "cell_type": "code",
      "metadata": {
        "id": "1vAJIxVqucfU"
      },
      "source": [
        ""
      ],
      "execution_count": null,
      "outputs": []
    }
  ]
}